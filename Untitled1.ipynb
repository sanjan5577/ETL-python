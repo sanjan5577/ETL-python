{
  "nbformat": 4,
  "nbformat_minor": 0,
  "metadata": {
    "colab": {
      "provenance": [],
      "authorship_tag": "ABX9TyNPkHdq1KipakOHLIm82RMu",
      "include_colab_link": true
    },
    "kernelspec": {
      "name": "python3",
      "display_name": "Python 3"
    },
    "language_info": {
      "name": "python"
    }
  },
  "cells": [
    {
      "cell_type": "markdown",
      "metadata": {
        "id": "view-in-github",
        "colab_type": "text"
      },
      "source": [
        "<a href=\"https://colab.research.google.com/github/sanjan5577/ETL-python/blob/main/Untitled1.ipynb\" target=\"_parent\"><img src=\"https://colab.research.google.com/assets/colab-badge.svg\" alt=\"Open In Colab\"/></a>"
      ]
    },
    {
      "cell_type": "markdown",
      "source": [
        "***Run django server***\n",
        "\n",
        "\n",
        "```\n",
        "# python3 manage.py runserver\n",
        "```\n",
        "\n",
        "***Migrating from sql ***\n",
        "\n",
        "```\n",
        "# python3 manage.py migrate\n",
        "```\n",
        "***Creating super user***\n",
        "\n",
        "\n",
        "```\n",
        "# python3 manage.py \n",
        "\n",
        "```\n",
        "\n",
        "\n",
        "\n",
        "\n",
        " \n"
      ],
      "metadata": {
        "id": "MdJYcuuPYBhm"
      }
    },
    {
      "cell_type": "code",
      "source": [
        "sum=0\n",
        "for i in range(0,10):\n",
        "    sum = sum +i\n",
        "print(sum)    \n",
        "\n",
        "\n"
      ],
      "metadata": {
        "colab": {
          "base_uri": "https://localhost:8080/"
        },
        "id": "5jUnaFi9eFyo",
        "outputId": "3eb5d07f-e74b-469e-e644-c44e2da87b88"
      },
      "execution_count": null,
      "outputs": [
        {
          "output_type": "stream",
          "name": "stdout",
          "text": [
            "45\n"
          ]
        }
      ]
    },
    {
      "cell_type": "code",
      "source": [
        "class Mac:\n",
        "\n",
        "  def config(self):\n",
        "    print(\"Mac Air\",self.pos,self.ram)\n",
        "     \n",
        "  def __init__(self,pos,ram):\n",
        "    self.pos=pos\n",
        "    self.ram=ram\n",
        "\n",
        "m1=Mac('m1',8)\n",
        "m2=Mac('m2',8)\n",
        "\n",
        "m1.config()\n",
        "m2.config()\n",
        "\n"
      ],
      "metadata": {
        "colab": {
          "base_uri": "https://localhost:8080/",
          "height": 240
        },
        "id": "Ngw4m_Z4K-Ue",
        "outputId": "7b74404a-ec51-42cd-cb93-a010768f53ab"
      },
      "execution_count": null,
      "outputs": [
        {
          "output_type": "error",
          "ename": "TypeError",
          "evalue": "ignored",
          "traceback": [
            "\u001b[0;31m---------------------------------------------------------------------------\u001b[0m",
            "\u001b[0;31mTypeError\u001b[0m                                 Traceback (most recent call last)",
            "\u001b[0;32m<ipython-input-8-431be2b50820>\u001b[0m in \u001b[0;36m<module>\u001b[0;34m\u001b[0m\n\u001b[1;32m     11\u001b[0m \u001b[0;31m# m2=Mac('m2',8)\u001b[0m\u001b[0;34m\u001b[0m\u001b[0;34m\u001b[0m\u001b[0;34m\u001b[0m\u001b[0m\n\u001b[1;32m     12\u001b[0m \u001b[0;34m\u001b[0m\u001b[0m\n\u001b[0;32m---> 13\u001b[0;31m \u001b[0mm1\u001b[0m\u001b[0;34m.\u001b[0m\u001b[0mconfig\u001b[0m\u001b[0;34m(\u001b[0m\u001b[0;34m'm1'\u001b[0m\u001b[0;34m,\u001b[0m\u001b[0;36m8\u001b[0m\u001b[0;34m)\u001b[0m\u001b[0;34m\u001b[0m\u001b[0;34m\u001b[0m\u001b[0m\n\u001b[0m\u001b[1;32m     14\u001b[0m \u001b[0;31m# m2.config()\u001b[0m\u001b[0;34m\u001b[0m\u001b[0;34m\u001b[0m\u001b[0;34m\u001b[0m\u001b[0m\n\u001b[1;32m     15\u001b[0m \u001b[0;34m\u001b[0m\u001b[0m\n",
            "\u001b[0;31mTypeError\u001b[0m: config() takes 1 positional argument but 3 were given"
          ]
        }
      ]
    },
    {
      "cell_type": "code",
      "source": [
        "import array as arr\n",
        "  \n",
        "\n",
        "my=arr.array(\"i\",[7,6,3])  \n",
        "print(my)\n",
        "print(type(my))"
      ],
      "metadata": {
        "id": "V0bJI3A7tBmb",
        "outputId": "8fcd40e4-fc71-4ca1-b1b5-e4adf5066b78",
        "colab": {
          "base_uri": "https://localhost:8080/"
        }
      },
      "execution_count": null,
      "outputs": [
        {
          "output_type": "stream",
          "name": "stdout",
          "text": [
            "array('i', [7, 6, 3])\n",
            "<class 'array.array'>\n"
          ]
        }
      ]
    },
    {
      "cell_type": "code",
      "source": [],
      "metadata": {
        "id": "Ue8Dx8rce8zG"
      },
      "execution_count": null,
      "outputs": []
    },
    {
      "cell_type": "code",
      "source": [
        "import numpy as np\n",
        "  \n",
        "\n",
        "my=np.array([1,\"hh\",3])  \n",
        "print(my)\n",
        "print(type(my))"
      ],
      "metadata": {
        "colab": {
          "base_uri": "https://localhost:8080/"
        },
        "id": "vbBT1vuugwuf",
        "outputId": "109a2c57-c40c-48bd-c55f-aa89504e2dfa"
      },
      "execution_count": null,
      "outputs": [
        {
          "output_type": "stream",
          "name": "stdout",
          "text": [
            "['1' 'hh' '3']\n",
            "<class 'numpy.ndarray'>\n"
          ]
        }
      ]
    },
    {
      "cell_type": "code",
      "source": [
        "# mystr = \"banana\"\n",
        "# my =iter(mystr)\n",
        "# # print(next(my))\n",
        "# for i in my:\n",
        "#    print(i)\n",
        "\n",
        "mystr = \"banana\"\n",
        "\n",
        "for x in mystr: print(x)   "
      ],
      "metadata": {
        "colab": {
          "base_uri": "https://localhost:8080/"
        },
        "id": "-wD086xxoJmo",
        "outputId": "ce59cbfc-545c-4953-ee4e-a9f286cd7cb7"
      },
      "execution_count": null,
      "outputs": [
        {
          "output_type": "stream",
          "name": "stdout",
          "text": [
            "b\n",
            "a\n",
            "n\n",
            "a\n",
            "n\n",
            "a\n"
          ]
        }
      ]
    },
    {
      "cell_type": "code",
      "source": [
        "li=[2,3,4,6]\n",
        "#li.reverse()\n",
        "print(\"original:\",li)\n",
        "lr=[]\n",
        "for i in range(len(li)):\n",
        "  lr=li[::-1]\n",
        "print(\"Reversed:\",lr)  \n",
        "\n",
        "\n",
        "\n",
        "  \n"
      ],
      "metadata": {
        "colab": {
          "base_uri": "https://localhost:8080/"
        },
        "id": "R0nM9tE69lSG",
        "outputId": "e353c860-29dd-4cd4-bc47-70e2c7c27c4c"
      },
      "execution_count": null,
      "outputs": [
        {
          "output_type": "stream",
          "name": "stdout",
          "text": [
            "original: [2, 3, 4, 6]\n",
            "Reversed: [6, 4, 3, 2]\n"
          ]
        }
      ]
    },
    {
      "cell_type": "code",
      "source": [
        "import sys\n",
        "\n",
        "# Getting size using getsizeof() method and lately\n",
        "# printing the same.\n",
        "a = sys.getsizeof(12)\n",
        "print(a)\n",
        "\n",
        "b = sys.getsizeof('geeks')\n",
        "print(b)\n",
        "\n",
        "c = sys.getsizeof(('g', 'e', 'e', 'k', 's'))\n",
        "print(c)\n",
        "\n",
        "d = sys.getsizeof(['g', 'e', 'e', 'k', 's'])\n",
        "print(d)\n",
        "\n",
        "e = sys.getsizeof({1, 2, 3, 4})\n",
        "print(e)\n",
        "\n",
        "f = sys.getsizeof({1: 'a', 2: 'b', 3: 'c', 4: 'd'})\n",
        "print(f)\n"
      ],
      "metadata": {
        "colab": {
          "base_uri": "https://localhost:8080/"
        },
        "id": "Xz4SYLJuvW12",
        "outputId": "d17ed5f2-2da4-48d1-b4e3-907a3f6bc1e0"
      },
      "execution_count": null,
      "outputs": [
        {
          "output_type": "stream",
          "name": "stdout",
          "text": [
            "28\n",
            "54\n",
            "80\n",
            "96\n",
            "216\n",
            "232\n"
          ]
        }
      ]
    },
    {
      "cell_type": "code",
      "source": [
        "dic={(\"sfs\",\"sfdvdfvd\"):1,(\"sdvdv\",\"vdv\"):2} #tuple as a key in dic\n",
        "print(dic)\n"
      ],
      "metadata": {
        "id": "FWDd4BABjXJV",
        "colab": {
          "base_uri": "https://localhost:8080/"
        },
        "outputId": "5e2f3001-2800-4d61-f679-e465d3b965a0"
      },
      "execution_count": null,
      "outputs": [
        {
          "output_type": "stream",
          "name": "stdout",
          "text": [
            "{('sfs', 'sfdvdfvd'): 1, ('sdvdv', 'vdv'): 2}\n"
          ]
        }
      ]
    },
    {
      "cell_type": "code",
      "source": [
        "import re\n",
        "\n",
        "#email validation\n",
        "def validation():\n",
        "  pattern =\"[a-zA-Z0-9]+@[a-zA-Z]+.(com|edu|net)\" \n",
        "  user_input = input()\n",
        "  if(re.search(pattern, user_input,re.IGNORECASE)):\n",
        "    print(\"valid email\")\n",
        "  else:\n",
        "    print(\"invalid email\")\n",
        "\n",
        "validation()\n"
      ],
      "metadata": {
        "colab": {
          "base_uri": "https://localhost:8080/"
        },
        "id": "ZIT1DU5iW3fY",
        "outputId": "f13d1b20-eb08-4c41-f717-1bd8c4384e04"
      },
      "execution_count": null,
      "outputs": [
        {
          "output_type": "stream",
          "name": "stdout",
          "text": [
            "Lav12@gmail.coM\n",
            "valid email\n"
          ]
        }
      ]
    },
    {
      "cell_type": "code",
      "source": [
        "user_input = input()\n",
        "pattern=\"Lav12@gmail.com\"\n",
        "if(re.match(pattern, user_input,re.IGNORECASE)):\n",
        "  print(\"valid email\")\n",
        "else:\n",
        "  print(\"invalid email\")\n"
      ],
      "metadata": {
        "colab": {
          "base_uri": "https://localhost:8080/"
        },
        "id": "BT4gYG-yceFI",
        "outputId": "a7765419-0a0b-454f-97e8-47f09e3e7d85"
      },
      "execution_count": null,
      "outputs": [
        {
          "output_type": "stream",
          "name": "stdout",
          "text": [
            "Lav12@gmail.coM\n",
            "valid email\n"
          ]
        }
      ]
    },
    {
      "cell_type": "code",
      "source": [
        "from datetime import datetime as dt\n",
        "\n",
        "print(\"UTC Time: \", dt.utcnow())\n",
        "ISOTime=dt.now().isoformat()\n",
        "print(\"ISO Time: \",ISOTime)"
      ],
      "metadata": {
        "colab": {
          "base_uri": "https://localhost:8080/"
        },
        "id": "7xrWMTIBww_p",
        "outputId": "23c75719-a9f6-4866-c906-1beaadfb42ed"
      },
      "execution_count": null,
      "outputs": [
        {
          "output_type": "stream",
          "name": "stdout",
          "text": [
            "UTC Time:  2023-02-21 21:00:20.604054\n",
            "ISO Time:  2023-02-21T21:00:20.606998\n"
          ]
        }
      ]
    },
    {
      "cell_type": "code",
      "source": [
        "import datetime as dt\n",
        "\n",
        "n=dt.datetime.today()\n",
        "print(n)"
      ],
      "metadata": {
        "colab": {
          "base_uri": "https://localhost:8080/"
        },
        "id": "QxYeoVmXyfsw",
        "outputId": "0669da24-f0c6-4f11-c4dc-2db3727bf237"
      },
      "execution_count": null,
      "outputs": [
        {
          "output_type": "stream",
          "name": "stdout",
          "text": [
            "2023-02-21 21:11:25.690694\n"
          ]
        }
      ]
    },
    {
      "cell_type": "code",
      "source": [
        "import os\n",
        "print(os.getcwd())"
      ],
      "metadata": {
        "colab": {
          "base_uri": "https://localhost:8080/"
        },
        "id": "rxYqw1PDzigZ",
        "outputId": "454d796a-0254-47f7-e077-9778b780cad9"
      },
      "execution_count": null,
      "outputs": [
        {
          "output_type": "stream",
          "name": "stdout",
          "text": [
            "/content\n"
          ]
        }
      ]
    },
    {
      "cell_type": "code",
      "source": [
        "from google.colab import drive\n",
        "drive.mount('/content/drive')"
      ],
      "metadata": {
        "id": "VyfEkSYKEZTY"
      },
      "execution_count": null,
      "outputs": []
    },
    {
      "cell_type": "code",
      "source": [
        "dict1={1:\"apple\",2:\"banana\"}\n",
        "dict2={3:\"orange\",4:\"mango\"}\n",
        "\n",
        "dict1.update(dict2)\n",
        "print(dict1)          # merging two dictionary\n",
        "\n",
        "# or\n",
        "dict3={**dict1,**dict2}\n",
        "print(dict3)"
      ],
      "metadata": {
        "colab": {
          "base_uri": "https://localhost:8080/"
        },
        "id": "q9WnpLEHj-l7",
        "outputId": "34dd6407-d2cd-4a9b-f2c8-1a97d996ba94"
      },
      "execution_count": null,
      "outputs": [
        {
          "output_type": "stream",
          "name": "stdout",
          "text": [
            "{1: 'apple', 2: 'banana', 3: 'orange', 4: 'mango'}\n",
            "{1: 'apple', 2: 'banana', 3: 'orange', 4: 'mango'}\n"
          ]
        }
      ]
    },
    {
      "cell_type": "code",
      "source": [
        "\n",
        "# from math import sqrt\n",
        "\n",
        "\n",
        "# def isPrime(n):\n",
        "# \tif (n <= 1):\n",
        "# \t\treturn False\n",
        "\n",
        "# \tfor i in range(2, int(sqrt(n))+1):\n",
        "# \t\tif (n % i == 0):\n",
        "# \t\t\treturn False\n",
        "\n",
        "# \treturn True\n",
        "def is_prime(n):\n",
        "    \"\"\"Returns True if n is a prime number, False otherwise.\"\"\"\n",
        "    if n < 2:\n",
        "        return False\n",
        "    for i in range(2, int(n ** 0.5) + 1):\n",
        "        if n % i == 0:\n",
        "            return False\n",
        "    return True\n",
        "\n",
        "# Example usage\n",
        "for i in range(1, 101):\n",
        "    if is_prime(i):\n",
        "        print(i,end=\",\")\n"
      ],
      "metadata": {
        "colab": {
          "base_uri": "https://localhost:8080/"
        },
        "id": "3HWroEhtYLXK",
        "outputId": "691c13b5-24da-4a2b-bea6-f1c0a8371266"
      },
      "execution_count": null,
      "outputs": [
        {
          "output_type": "stream",
          "name": "stdout",
          "text": [
            "2,3,5,7,11,13,17,19,23,29,31,37,41,43,47,53,59,61,67,71,73,79,83,89,97,"
          ]
        }
      ]
    },
    {
      "cell_type": "code",
      "source": [
        "lis=[1,2,3]\n",
        "p=sum(lis)\n",
        "# p=0\n",
        "# for i in lis:\n",
        "#   p=p+i\n",
        "print(p)\n",
        " \n",
        "  \n",
        "\n"
      ],
      "metadata": {
        "colab": {
          "base_uri": "https://localhost:8080/"
        },
        "id": "2-weoO1TOi7d",
        "outputId": "371287de-ff9e-4318-e7b9-180d7b94368e"
      },
      "execution_count": null,
      "outputs": [
        {
          "output_type": "stream",
          "name": "stdout",
          "text": [
            "6\n"
          ]
        }
      ]
    },
    {
      "cell_type": "code",
      "source": [
        "#decorators\n",
        "def outer_div(func):\n",
        "    def inner(x, y):\n",
        "        if (x < y):\n",
        "            x, y = y, x\n",
        "            return func(x, y)\n",
        "    return inner\n",
        "# syntax of generator\n",
        "\n",
        "\n",
        "@outer_div\n",
        "def divide(x, y):\n",
        "    print(x//y)\n",
        "\n",
        "\n",
        "divide(3, 6)\n"
      ],
      "metadata": {
        "colab": {
          "base_uri": "https://localhost:8080/"
        },
        "id": "kd3Jl-Hje94H",
        "outputId": "a560f504-740e-4836-8de6-edea634586c6"
      },
      "execution_count": null,
      "outputs": [
        {
          "output_type": "stream",
          "name": "stdout",
          "text": [
            "2\n"
          ]
        }
      ]
    },
    {
      "cell_type": "code",
      "source": [
        "# def wap(n):\n",
        "#   return lambda a:a*n\n",
        "# w=wap(3)\n",
        "# print(w(2))\n",
        "\n",
        "d=lambda a,b:(a*b)\n",
        "print(d(9,3))"
      ],
      "metadata": {
        "colab": {
          "base_uri": "https://localhost:8080/"
        },
        "id": "qeIwnRmwgjlh",
        "outputId": "054158c4-c3ab-4aca-91f6-79bfe7e29a3c"
      },
      "execution_count": null,
      "outputs": [
        {
          "output_type": "stream",
          "name": "stdout",
          "text": [
            "27\n"
          ]
        }
      ]
    },
    {
      "cell_type": "code",
      "source": [
        "st=input(\"enter:\")\n",
        "max=0\n",
        "s=st.split()\n",
        "print(s)\n",
        "for i in s:     # find the largest word in sentence\n",
        "  if len(i)>max:\n",
        "    max=len(i)\n",
        "    max_w=i\n",
        "print(max_w,max)"
      ],
      "metadata": {
        "colab": {
          "base_uri": "https://localhost:8080/"
        },
        "id": "dcSniquqfm9d",
        "outputId": "74ddf3d2-77cb-46f0-f015-6e4352f3a364"
      },
      "execution_count": null,
      "outputs": [
        {
          "output_type": "stream",
          "name": "stdout",
          "text": [
            "enter:i love weed somuch\n",
            "['i', 'love', 'weed', 'somuch']\n",
            "somuch 6\n"
          ]
        }
      ]
    },
    {
      "cell_type": "code",
      "source": [
        "\n",
        "li=[i for i in range(0,10)] #list comprehension\n",
        "print(li)\n",
        "\n",
        "numbers = {x: x*x*x for x in range(1, 11)} #dictionary comprehension\n",
        "print(numbers)"
      ],
      "metadata": {
        "colab": {
          "base_uri": "https://localhost:8080/"
        },
        "id": "YqM2q6O1h1J_",
        "outputId": "179b9faa-299b-4739-f358-fe97b9944d06"
      },
      "execution_count": null,
      "outputs": [
        {
          "output_type": "stream",
          "name": "stdout",
          "text": [
            "[0, 1, 2, 3, 4, 5, 6, 7, 8, 9]\n",
            "{1: 1, 2: 8, 3: 27, 4: 64, 5: 125, 6: 216, 7: 343, 8: 512, 9: 729, 10: 1000}\n"
          ]
        }
      ]
    },
    {
      "cell_type": "code",
      "source": [
        "class Animal: ## overriding /runtime polymorphism\n",
        "    def Walk(self):\n",
        "        print('Hello, I am the parent class')\n",
        "\n",
        "class Dog(Animal):\n",
        "    def Walk(self):\n",
        "        print('Hello, I am the child class')\n",
        "\n",
        "#Invoking Child class through object r\n",
        "\n",
        "r = Dog()\n",
        "r.Walk()\n",
        "\n",
        "#Invoking Parent class through object r\n",
        "\n",
        "r = Animal()\n",
        "r.Walk()"
      ],
      "metadata": {
        "colab": {
          "base_uri": "https://localhost:8080/"
        },
        "id": "pLoTl1U_oJUc",
        "outputId": "ced09e34-978a-4ba4-f7ca-23ebc319c680"
      },
      "execution_count": null,
      "outputs": [
        {
          "output_type": "stream",
          "name": "stdout",
          "text": [
            "Hello, I am the child class\n",
            "Hello, I am the parent class\n"
          ]
        }
      ]
    },
    {
      "cell_type": "code",
      "source": [
        "#overloading compiletime polymorphism\n",
        "# class World:\n",
        "#        def hello(self, name=None):\n",
        "#          if name is not None:\n",
        "#            print(\"hello\", name)\n",
        "#          else:\n",
        "#            print(\"hello\")\n",
        "# obj = World() \n",
        "# obj.hello()      # calling function without any argument\n",
        "# obj.hello(\"lav\")\n",
        "\n",
        "class sumClass:\n",
        "    def sum(self, a, b):\n",
        "        print(\"First method:\",a+b)\n",
        "    def sum(self, a, b, c):\n",
        "        print(\"Second method:\", a + b + c)\n",
        "        \n",
        "obj=sumClass()\n",
        "obj.sum(19, 8, 77) #correct output\n",
        "# obj.sum(18, 20) # throws error\n"
      ],
      "metadata": {
        "colab": {
          "base_uri": "https://localhost:8080/"
        },
        "id": "WPVN_aXCosl9",
        "outputId": "192a257f-12dd-46e5-e35d-a1f2c59d3cdd"
      },
      "execution_count": null,
      "outputs": [
        {
          "output_type": "stream",
          "name": "stdout",
          "text": [
            "Second method: 104\n"
          ]
        }
      ]
    },
    {
      "cell_type": "code",
      "source": [
        "num=int(input(\"enter:\"))# febonacci series)\n",
        "a=0\n",
        "c=0\n",
        "b=1\n",
        "i=1\n",
        "while i<num:\n",
        "  c=a+b\n",
        "  a=b\n",
        "  b=c\n",
        "  i+=1\n",
        "  print(c)"
      ],
      "metadata": {
        "colab": {
          "base_uri": "https://localhost:8080/"
        },
        "id": "ePjwUHiVBzZs",
        "outputId": "a6b6ae57-047d-4598-af39-bf719c0378ce"
      },
      "execution_count": null,
      "outputs": [
        {
          "output_type": "stream",
          "name": "stdout",
          "text": [
            "enter:5\n",
            "1\n",
            "2\n",
            "3\n",
            "5\n"
          ]
        }
      ]
    },
    {
      "cell_type": "code",
      "source": [
        "def f(str):\n",
        "  a=str.split()\n",
        "  count={}\n",
        "  for i in a:\n",
        "    if i  in count:\n",
        "      count[i] += 1\n",
        "    else:\n",
        "      count[i] = 1\n",
        "  return (count)\n",
        "\n",
        "\n",
        "f(\"i love my bike i\")\n",
        "\n",
        "# def word_count(str):\n",
        "#     counts = {}\n",
        "#     words = str.split()\n",
        "   \n",
        "#     for word in words:  #\n",
        "#         if word in counts:\n",
        "#             counts[word] += 1\n",
        "#         else:\n",
        "#             counts[word] = 1\n",
        "\n",
        "#     return counts\n",
        "\n",
        "# print( word_count('the quick brown fox jumps over the lazy dog.'))"
      ],
      "metadata": {
        "colab": {
          "base_uri": "https://localhost:8080/"
        },
        "id": "KEyGJd0MGKD_",
        "outputId": "cd7aa0b0-6c74-4781-f0a6-1d19c14b0515"
      },
      "execution_count": null,
      "outputs": [
        {
          "output_type": "execute_result",
          "data": {
            "text/plain": [
              "{'i': 2, 'love': 1, 'my': 1, 'bike': 1}"
            ]
          },
          "metadata": {},
          "execution_count": 30
        }
      ]
    },
    {
      "cell_type": "code",
      "source": [
        "#sorting\n",
        "def _sort(l):\n",
        "  max=l[0]\n",
        "  for i in range(len(l)):\n",
        "    for j in range(i + 1, len(l)):\n",
        "\n",
        "        if l[i] > l[j]:\n",
        "           l[i], l[j] = l[j], l[i]\n",
        "\n",
        "  return l    \n",
        "_sort([1,2,6,-9,5,7,0,-878])\n"
      ],
      "metadata": {
        "colab": {
          "base_uri": "https://localhost:8080/"
        },
        "id": "w6WjvFk0Y6C4",
        "outputId": "08d58ffe-b993-41b0-a4ea-847f2f9ec6d8"
      },
      "execution_count": null,
      "outputs": [
        {
          "output_type": "execute_result",
          "data": {
            "text/plain": [
              "[-878, -9, 0, 1, 2, 5, 6, 7]"
            ]
          },
          "metadata": {},
          "execution_count": 13
        }
      ]
    },
    {
      "cell_type": "code",
      "source": [
        "def plusMinus(arr):\n",
        "    # Write your code here\n",
        "    positive = 0\n",
        "    negative = 0\n",
        "    zero = 0\n",
        "    n=5\n",
        "    for x in arr:\n",
        "        if x > 0:\n",
        "            positive += 1\n",
        "        elif x < 0:\n",
        "            negative += 1\n",
        "        else:\n",
        "            zero += 1\n",
        "    \n",
        "    print('{:.6f}'.format(positive / float(n)))\n",
        "    print('{:.6f}'.format(negative / float(n)))\n",
        "    print('{:.6f}'.format(zero / float(n)))\n",
        "\n",
        "plusMinus([-1,5,6,8,9]) \n",
        "  "
      ],
      "metadata": {
        "colab": {
          "base_uri": "https://localhost:8080/"
        },
        "id": "yX0Ekse6OYnB",
        "outputId": "927faba5-20a9-4152-cd75-c3a59e02b350"
      },
      "execution_count": null,
      "outputs": [
        {
          "output_type": "stream",
          "name": "stdout",
          "text": [
            "0.800000\n",
            "0.200000\n",
            "0.000000\n"
          ]
        }
      ]
    },
    {
      "cell_type": "code",
      "source": [
        "\n",
        "def miniMaxSum(arr):\n",
        "    \n",
        "    total = sum(arr)\n",
        "    final_list = [total - arr[number] for number in range(len(arr))]\n",
        "    \n",
        "    print(min(final_list),max(final_list))\n",
        "miniMaxSum([0, 1, 2, 3, 4, 5, 6, 7, 8, 9,11])    "
      ],
      "metadata": {
        "colab": {
          "base_uri": "https://localhost:8080/"
        },
        "id": "I8HP97S5OIVj",
        "outputId": "a6c7796a-7282-458d-b8bd-a63eb6c1adfe"
      },
      "execution_count": null,
      "outputs": [
        {
          "output_type": "stream",
          "name": "stdout",
          "text": [
            "45 56\n"
          ]
        }
      ]
    },
    {
      "cell_type": "code",
      "source": [
        "def timeConversion(s):\n",
        "    \n",
        "    hour, minute, temp = s.split(':')\n",
        "    second, period = temp[0:2], temp[2:4]\n",
        "    \n",
        "    hour = int(hour)\n",
        "    \n",
        "    if period == 'AM':\n",
        "        if hour == 12:\n",
        "            hour = hour - hour\n",
        "        \n",
        "    elif period == 'PM':\n",
        "        if hour != 12:\n",
        "            hour = hour + 12\n",
        "    \n",
        "    return '{:0>2}:{:0>2}:{:0>2}'.format(hour, minute, second) #or use {:02d}:{:02d}:{:02d}\n"
      ],
      "metadata": {
        "id": "BJRpXHbGEz1n"
      },
      "execution_count": null,
      "outputs": []
    },
    {
      "cell_type": "code",
      "source": [
        "def med_num(arr):\n",
        "  arr1=sorted(arr)\n",
        "  print(arr1)\n",
        "  l=len(arr1)\n",
        "  if l%2!=0:\n",
        "    return arr1[(l//2)]\n",
        "  else:\n",
        "    m1=arr1[l//2]\n",
        "    m2=arr1[l//2 - 1]\n",
        "    return (m1+m2)//2\n",
        "    \n",
        "\n",
        "med_num([1,2,3,4,5,6,7,8,9])  "
      ],
      "metadata": {
        "colab": {
          "base_uri": "https://localhost:8080/"
        },
        "id": "0pKc0KSGQjVv",
        "outputId": "9c22c11c-339e-4600-db06-8d414a7851da"
      },
      "execution_count": null,
      "outputs": [
        {
          "output_type": "stream",
          "name": "stdout",
          "text": [
            "[1, 2, 3, 4, 5, 6, 7, 8, 9]\n"
          ]
        },
        {
          "output_type": "execute_result",
          "data": {
            "text/plain": [
              "5"
            ]
          },
          "metadata": {},
          "execution_count": 58
        }
      ]
    },
    {
      "cell_type": "code",
      "source": [
        "example = list('easyhoss')\n",
        "print(example)\n"
      ],
      "metadata": {
        "colab": {
          "base_uri": "https://localhost:8080/"
        },
        "id": "XCfjxMdjLf2I",
        "outputId": "3b54005a-c45a-4206-bd4e-dfaf9fc7f0b2"
      },
      "execution_count": null,
      "outputs": [
        {
          "output_type": "stream",
          "name": "stdout",
          "text": [
            "['e', 'a', 's', 'y', 'h', 'o', 's', 's']\n"
          ]
        }
      ]
    },
    {
      "cell_type": "code",
      "source": [
        "l = [64, 25, 12, 22, 11, 1,2,44,3,122, 23, 34]\n",
        "\n",
        "for i in range(len(l)):\n",
        "    for j in range(i + 1, len(l)):  \n",
        "\n",
        "        if l[i] > l[j]:\n",
        "           l[i], l[j] = l[j], l[i] \n",
        "\n",
        "print(l)\n"
      ],
      "metadata": {
        "colab": {
          "base_uri": "https://localhost:8080/"
        },
        "id": "7ZTloQm7cPw1",
        "outputId": "d3572d33-9733-4f22-f95c-3034bb220c15"
      },
      "execution_count": null,
      "outputs": [
        {
          "output_type": "stream",
          "name": "stdout",
          "text": [
            "[1, 2, 3, 11, 12, 22, 23, 25, 34, 44, 64, 122]\n"
          ]
        }
      ]
    },
    {
      "cell_type": "code",
      "source": [
        "import heapq\n",
        "\n",
        "l = [64, 25, 12, 22, 11, 1, 2, 44, 3, 122, 23, 34]\n",
        "heapq.heapify(l)\n",
        "l_sorted = [heapq.heappop(l) for i in range(len(l))]\n",
        "l_sorted.reverse()\n",
        "print(l_sorted)"
      ],
      "metadata": {
        "colab": {
          "base_uri": "https://localhost:8080/"
        },
        "id": "j3-lif4tiZm1",
        "outputId": "67ca8b43-2308-4e2b-c34f-e12258dea273"
      },
      "execution_count": null,
      "outputs": [
        {
          "output_type": "stream",
          "name": "stdout",
          "text": [
            "[122, 64, 44, 34, 25, 23, 22, 12, 11, 3, 2, 1]\n"
          ]
        }
      ]
    },
    {
      "cell_type": "code",
      "source": [
        "def case_swap(str):\n",
        "  s=str.split()\n",
        "  print(s)\n",
        "\n",
        "case_swap(\"Pythonist 2\")"
      ],
      "metadata": {
        "colab": {
          "base_uri": "https://localhost:8080/"
        },
        "id": "P8hbT2oUis1k",
        "outputId": "4b3ba970-8500-404c-9e78-106338039b66"
      },
      "execution_count": null,
      "outputs": [
        {
          "output_type": "stream",
          "name": "stdout",
          "text": [
            "['Pythonist', '2']\n"
          ]
        }
      ]
    },
    {
      "cell_type": "code",
      "source": [
        "def fact(x):\n",
        "    if x == 0:\n",
        "        return 1\n",
        "    return x * fact(x - 1)\n",
        "x=int(input())\n",
        "print(fact(x))\n"
      ],
      "metadata": {
        "id": "fbZACIGJ-YXB"
      },
      "execution_count": null,
      "outputs": []
    },
    {
      "cell_type": "code",
      "source": [
        "import requests\n",
        "import json\n",
        "import pandas as pd\n",
        "\n",
        "url=\"https://api.data.gov.in/resource/f8cd85a1-f9b8-4ff1-b195-9f75c10eb338?api-key=579b464db66ec23bdd000001cdd3946e44ce4aad7209ff7b23ac571b&format=json&limit=100\"\n",
        "response = requests.get(url)\n",
        "print(response.json())"
      ],
      "metadata": {
        "colab": {
          "base_uri": "https://localhost:8080/"
        },
        "id": "Y05MA3zGdjkW",
        "outputId": "c18a018b-1818-479b-f338-dcc1dc2c9cb4"
      },
      "execution_count": null,
      "outputs": [
        {
          "output_type": "stream",
          "name": "stdout",
          "text": [
            "{'index_name': 'f8cd85a1-f9b8-4ff1-b195-9f75c10eb338', 'title': 'District Wise Total MSME Registered Enterprises under UDYAM Registration till last date', 'desc': 'District Wise Total MSME Registered Enterprises under UDYAM Registration till last date', 'org_type': 'Central', 'org': ['Ministry of Micro, Small and Medium Enterprises'], 'sector': ['Industries', 'Medium', 'Micro', 'Small Scale'], 'source': 'data.gov.in', 'catalog_uuid': '0536e86e-3751-4054-84e5-e257d4c94477', 'visualizable': '1', 'active': '1', 'created': 1638430835, 'updated': 1676603484, 'created_date': '2021-12-02T07:40:35Z', 'updated_date': '2023-02-17T08:41:24Z', 'external_ws': 0, 'external_ws_url': '', 'target_bucket': {'index': 'udyam_total', 'type': '0536e86e-3751-4054-84e5-e257d4c94477', 'field': 'f8cd85a1-f9b8-4ff1-b195-9f75c10eb338'}, 'field': [{'name': 'state_name', 'id': '_state_name_', 'type': 'keyword'}, {'name': 'lg_dist_code', 'id': 'lg_dist_code', 'type': 'keyword'}, {'name': 'district_name', 'id': 'district_name', 'type': 'keyword'}, {'name': 'micro', 'id': 'micro', 'type': 'double'}, {'name': 'small', 'id': 'small', 'type': 'double'}, {'name': 'medium', 'id': 'medium', 'type': 'double'}, {'name': 'total', 'id': 'total', 'type': 'double'}, {'name': 'last_updated', 'id': 'last_updated', 'type': 'date'}], 'message': 'Resource lists', 'version': '2.2.0', 'status': 'ok', 'total': 764, 'count': 10, 'limit': 10, 'offset': '0', 'records': [{'_state_name_': 'ANDHRA PRADESH', 'lg_dist_code': '745', 'district_name': 'Alluri Sitharama Raju', 'micro': '876', 'small': '5', 'medium': 'NA', 'total': '881', 'last_updated': '2023-02-17'}, {'_state_name_': 'ANDHRA PRADESH', 'lg_dist_code': '744', 'district_name': 'Anakapalli', 'micro': '3906', 'small': '60', 'medium': '1', 'total': '3967', 'last_updated': '2023-02-17'}, {'_state_name_': 'ANDHRA PRADESH', 'lg_dist_code': '502', 'district_name': 'ANANTHAPUR', 'micro': '30113', 'small': '755', 'medium': '45', 'total': '30913', 'last_updated': '2023-02-17'}, {'_state_name_': 'ANDHRA PRADESH', 'lg_dist_code': '753', 'district_name': 'Annamayya', 'micro': '5833', 'small': '73', 'medium': '2', 'total': '5908', 'last_updated': '2023-02-17'}, {'_state_name_': 'ANDHRA PRADESH', 'lg_dist_code': '750', 'district_name': 'Bapatla', 'micro': '4433', 'small': '60', 'medium': '2', 'total': '4495', 'last_updated': '2023-02-17'}, {'_state_name_': 'ANDHRA PRADESH', 'lg_dist_code': '503', 'district_name': 'CHITOOR', 'micro': '25755', 'small': '860', 'medium': '57', 'total': '26672', 'last_updated': '2023-02-17'}, {'_state_name_': 'ANDHRA PRADESH', 'lg_dist_code': '505', 'district_name': 'EAST GODAVARI', 'micro': '32609', 'small': '1535', 'medium': '138', 'total': '34282', 'last_updated': '2023-02-17'}, {'_state_name_': 'ANDHRA PRADESH', 'lg_dist_code': '748', 'district_name': 'Eluru', 'micro': '5724', 'small': '97', 'medium': 'NA', 'total': '5821', 'last_updated': '2023-02-17'}, {'_state_name_': 'ANDHRA PRADESH', 'lg_dist_code': '506', 'district_name': 'GUNTUR', 'micro': '33410', 'small': '2137', 'medium': '221', 'total': '35768', 'last_updated': '2023-02-17'}, {'_state_name_': 'ANDHRA PRADESH', 'lg_dist_code': '746', 'district_name': 'Kakinada', 'micro': '6361', 'small': '89', 'medium': '4', 'total': '6454', 'last_updated': '2023-02-17'}]}\n"
          ]
        }
      ]
    },
    {
      "cell_type": "code",
      "source": [
        "def print_alpha_nums(abc_list, num_list):\n",
        "  for char in abc_list:\n",
        "    for num in num_list:\n",
        "      print(char, num)\n",
        "\n",
        "  return\n",
        "\n",
        "print_alpha_nums(['a', 'b', 'c'], [1, 2, 3])\n",
        "\n"
      ],
      "metadata": {
        "colab": {
          "base_uri": "https://localhost:8080/"
        },
        "id": "cNguOvSH3t7X",
        "outputId": "af06616b-fe2b-437b-838c-2391bb4c4049"
      },
      "execution_count": null,
      "outputs": [
        {
          "output_type": "stream",
          "name": "stdout",
          "text": [
            "a 1\n",
            "a 2\n",
            "a 3\n",
            "b 1\n",
            "b 2\n",
            "b 3\n",
            "c 1\n",
            "c 2\n",
            "c 3\n"
          ]
        }
      ]
    },
    {
      "cell_type": "code",
      "source": [
        "st=\"i love dog cats i love birds\"\n",
        "s=st.split()\n",
        "d={}\n",
        "d=[d[i] = 1 else d[i] += 1 if i in  d for i in s]\n",
        "print(d)"
      ],
      "metadata": {
        "colab": {
          "base_uri": "https://localhost:8080/",
          "height": 133
        },
        "id": "wMb__KRvxqz0",
        "outputId": "5cdae90e-57f9-4b29-f15a-9291f022ac6c"
      },
      "execution_count": null,
      "outputs": [
        {
          "output_type": "error",
          "ename": "SyntaxError",
          "evalue": "ignored",
          "traceback": [
            "\u001b[0;36m  File \u001b[0;32m\"<ipython-input-7-70bfb96507c2>\"\u001b[0;36m, line \u001b[0;32m4\u001b[0m\n\u001b[0;31m    d=[d[i] = 1 else d[i] += 1 if i in  d for i in s]\u001b[0m\n\u001b[0m            ^\u001b[0m\n\u001b[0;31mSyntaxError\u001b[0m\u001b[0;31m:\u001b[0m invalid syntax\n"
          ]
        }
      ]
    },
    {
      "cell_type": "code",
      "source": [
        "import requests\n",
        "from bs4 import BeautifulSoup\n",
        "import pandas as pd\n",
        "\n",
        "\n",
        "def scrape_website(url):\n",
        "    # Send a GET request to the specified URL\n",
        "    response = requests.get(url)\n",
        "\n",
        "    # Parse the HTML content using BeautifulSoup\n",
        "    soup = BeautifulSoup(response.content, 'html.parser')\n",
        "\n",
        "    # Find the section containing the products\n",
        "    products_section = soup.find('section', {'class': 'js-filter-products'})\n",
        "\n",
        "    # Find all the product items\n",
        "    product_items = products_section.find_all('li', {'class': 'product-grid__item'})\n",
        "\n",
        "    # Create an empty list to store the data for each product\n",
        "    products = []\n",
        "\n",
        "    # Iterate over each product item and extract the name and price\n",
        "    for item in product_items:\n",
        "        # Find the name of the product\n",
        "        name = item.find('p', {'class': 'product-card__name'}).text.strip()\n",
        "\n",
        "        # Find the price of the product\n",
        "        price = item.find('p', {'class': 'product-card__price'}).text.strip()\n",
        "\n",
        "        # Add the name and price to the list of products\n",
        "        products.append({'Product Name': name, 'Product Price': price})\n",
        "\n",
        "    # Create a pandas dataframe from the list of products\n",
        "    df = pd.DataFrame(products)\n",
        "    print(df)\n",
        "    # Save the dataframe as a CSV file\n",
        "    df.to_excel('product_prices.csv', index=False)\n",
        "\n",
        "    # Print a message indicating the operation is complete\n",
        "    print('Product prices have been scraped and saved to product_prices.csv')\n",
        "\n",
        "\n",
        "# Test the function by scraping the specified website\n",
        "url = 'https://www.thewhiskyexchange.com/c/35/japanese-whisky'\n",
        "scrape_website(url)\n"
      ],
      "metadata": {
        "colab": {
          "base_uri": "https://localhost:8080/"
        },
        "id": "kNYWikUnpPWq",
        "outputId": "5e6ebe0f-f99f-4eb8-e21a-4fda1fb7a220"
      },
      "execution_count": null,
      "outputs": [
        {
          "output_type": "stream",
          "name": "stdout",
          "text": [
            "                                         Product Name Product Price\n",
            "0                                      Hibiki Harmony        £76.95\n",
            "1                                Yamazaki 12 Year Old          £139\n",
            "2                           Nikka Coffey Grain Whisky        £57.95\n",
            "3                                    The Chita Whisky        £51.95\n",
            "4                                  Yoichi Single Malt        £77.75\n",
            "5                        Yamazaki Distiller's Reserve        £72.95\n",
            "6                         Hakushu Distiller's Reserve        £70.95\n",
            "7                               Miyagikyo Single Malt        £78.45\n",
            "8                                        Suntory Toki        £33.95\n",
            "9                                  Kaiyo Mizunara Oak        £82.95\n",
            "10           The House of Suntory Triology Pack3x20cl        £44.95\n",
            "11  Ichiro's Malt & GrainWorld Blended Whisky 2020...          £195\n",
            "12                   Kaiyo Mizunara Oak Cask Strength          £110\n",
            "13           Shizuoka Contact S Single Malt3 Year Old          £175\n",
            "14  Shizuoka Single Malt Prologue K and Prologue W...          £199\n",
            "15                        Chichibu On The WayBot.2019          £450\n",
            "16                   Mars Komatgatake EditionBot.2021          £145\n",
            "17                  Matsui PeatedKurayoshi Distillery          £131\n",
            "18                          Kaiyo Peated Mizunara Oak        £99.95\n",
            "19             Ichiro's Malt Double Distilleries 2021          £299\n",
            "20            Akashi 5 Year OldSherry Cask Half Litre          £150\n",
            "21  Karuizawa 29 Year OldAika Geisha Bourbon Cask ...       £27,500\n",
            "22                  Matsui SakuraKurayoshi Distillery          £136\n",
            "23                Matsui MizunaraKurayoshi Distillery          £134\n",
            "Product prices have been scraped and saved to product_prices.csv\n"
          ]
        }
      ]
    },
    {
      "cell_type": "code",
      "source": [
        "import requests\n",
        "from bs4 import BeautifulSoup\n",
        "import pandas as pd\n",
        "\n",
        "# make a request to the website\n",
        "url = \"https://www.thewhiskyexchange.com/c/35/japanese-whisky\"\n",
        "response = requests.get(url)\n",
        "\n",
        "# parse the html content using Beautiful Soup\n",
        "soup = BeautifulSoup(response.content, 'html.parser')\n",
        "\n",
        "# find the section containing the product list\n",
        "product_section = soup.find('section', {'class': 'js-filter-products'})\n",
        "\n",
        "# extract the name, price, and unit price of each product and store them in a list\n",
        "products = []\n",
        "for product in product_section.find_all('div', {'class': 'product-card__content','class': 'product-card__data'}):\n",
        "    name = product.find('p', {'class': 'product-card__name'}).text.strip()\n",
        "    price = product.find('p', {'class': 'product-card__price'}).text.strip()\n",
        "    unit_price = product.find('p', {'class': 'product-card__unit-price'}).text.strip()\n",
        "    products.append([name, price, unit_price])\n",
        "\n",
        "# convert the list of products into a pandas dataframe\n",
        "df = pd.DataFrame(products, columns=['Name', 'Price', 'Unit Price'])\n",
        "print(df.head())\n"
      ],
      "metadata": {
        "colab": {
          "base_uri": "https://localhost:8080/",
          "height": 240
        },
        "id": "qA5B_NNMw6Pt",
        "outputId": "4d7e4fd1-2732-46ed-9387-b4542fb4790e"
      },
      "execution_count": null,
      "outputs": [
        {
          "output_type": "error",
          "ename": "AttributeError",
          "evalue": "ignored",
          "traceback": [
            "\u001b[0;31m---------------------------------------------------------------------------\u001b[0m",
            "\u001b[0;31mAttributeError\u001b[0m                            Traceback (most recent call last)",
            "\u001b[0;32m<ipython-input-11-ffa1a9918920>\u001b[0m in \u001b[0;36m<module>\u001b[0;34m\u001b[0m\n\u001b[1;32m     16\u001b[0m \u001b[0mproducts\u001b[0m \u001b[0;34m=\u001b[0m \u001b[0;34m[\u001b[0m\u001b[0;34m]\u001b[0m\u001b[0;34m\u001b[0m\u001b[0;34m\u001b[0m\u001b[0m\n\u001b[1;32m     17\u001b[0m \u001b[0;32mfor\u001b[0m \u001b[0mproduct\u001b[0m \u001b[0;32min\u001b[0m \u001b[0mproduct_section\u001b[0m\u001b[0;34m.\u001b[0m\u001b[0mfind_all\u001b[0m\u001b[0;34m(\u001b[0m\u001b[0;34m'div'\u001b[0m\u001b[0;34m,\u001b[0m \u001b[0;34m{\u001b[0m\u001b[0;34m'class'\u001b[0m\u001b[0;34m:\u001b[0m \u001b[0;34m'product-card__content'\u001b[0m\u001b[0;34m,\u001b[0m\u001b[0;34m'class'\u001b[0m\u001b[0;34m:\u001b[0m \u001b[0;34m'product-card__data'\u001b[0m\u001b[0;34m}\u001b[0m\u001b[0;34m)\u001b[0m\u001b[0;34m:\u001b[0m\u001b[0;34m\u001b[0m\u001b[0;34m\u001b[0m\u001b[0m\n\u001b[0;32m---> 18\u001b[0;31m     \u001b[0mname\u001b[0m \u001b[0;34m=\u001b[0m \u001b[0mproduct\u001b[0m\u001b[0;34m.\u001b[0m\u001b[0mfind\u001b[0m\u001b[0;34m(\u001b[0m\u001b[0;34m'p'\u001b[0m\u001b[0;34m,\u001b[0m \u001b[0;34m{\u001b[0m\u001b[0;34m'class'\u001b[0m\u001b[0;34m:\u001b[0m \u001b[0;34m'product-card__name'\u001b[0m\u001b[0;34m}\u001b[0m\u001b[0;34m)\u001b[0m\u001b[0;34m.\u001b[0m\u001b[0mtext\u001b[0m\u001b[0;34m.\u001b[0m\u001b[0mstrip\u001b[0m\u001b[0;34m(\u001b[0m\u001b[0;34m)\u001b[0m\u001b[0;34m\u001b[0m\u001b[0;34m\u001b[0m\u001b[0m\n\u001b[0m\u001b[1;32m     19\u001b[0m     \u001b[0mprice\u001b[0m \u001b[0;34m=\u001b[0m \u001b[0mproduct\u001b[0m\u001b[0;34m.\u001b[0m\u001b[0mfind\u001b[0m\u001b[0;34m(\u001b[0m\u001b[0;34m'p'\u001b[0m\u001b[0;34m,\u001b[0m \u001b[0;34m{\u001b[0m\u001b[0;34m'class'\u001b[0m\u001b[0;34m:\u001b[0m \u001b[0;34m'product-card__price'\u001b[0m\u001b[0;34m}\u001b[0m\u001b[0;34m)\u001b[0m\u001b[0;34m.\u001b[0m\u001b[0mtext\u001b[0m\u001b[0;34m.\u001b[0m\u001b[0mstrip\u001b[0m\u001b[0;34m(\u001b[0m\u001b[0;34m)\u001b[0m\u001b[0;34m\u001b[0m\u001b[0;34m\u001b[0m\u001b[0m\n\u001b[1;32m     20\u001b[0m     \u001b[0munit_price\u001b[0m \u001b[0;34m=\u001b[0m \u001b[0mproduct\u001b[0m\u001b[0;34m.\u001b[0m\u001b[0mfind\u001b[0m\u001b[0;34m(\u001b[0m\u001b[0;34m'p'\u001b[0m\u001b[0;34m,\u001b[0m \u001b[0;34m{\u001b[0m\u001b[0;34m'class'\u001b[0m\u001b[0;34m:\u001b[0m \u001b[0;34m'product-card__unit-price'\u001b[0m\u001b[0;34m}\u001b[0m\u001b[0;34m)\u001b[0m\u001b[0;34m.\u001b[0m\u001b[0mtext\u001b[0m\u001b[0;34m.\u001b[0m\u001b[0mstrip\u001b[0m\u001b[0;34m(\u001b[0m\u001b[0;34m)\u001b[0m\u001b[0;34m\u001b[0m\u001b[0;34m\u001b[0m\u001b[0m\n",
            "\u001b[0;31mAttributeError\u001b[0m: 'NoneType' object has no attribute 'text'"
          ]
        }
      ]
    }
  ]
}